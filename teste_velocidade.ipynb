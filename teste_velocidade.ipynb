import numpy as np
np_array = np.arange(1000000)

%time for _ in range(100): np_array*=2
  
py_list = list(range(1000000))
%time for _ in range(100): pylist =[x*2 for x in py_list]
